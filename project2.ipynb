{
 "cells": [
  {
   "cell_type": "code",
   "execution_count": 270,
   "metadata": {},
   "outputs": [
    {
     "name": "stdout",
     "output_type": "stream",
     "text": [
      "Brush_teeth\n",
      "Climb_stairs\n",
      "Comb_hair\n",
      "Descend_stairs\n",
      "Drink_glass\n",
      "Eat_meat\n",
      "Eat_soup\n",
      "Getup_bed\n",
      "Liedown_bed\n",
      "Pour_water\n",
      "Sitdown_chair\n",
      "Standup_chair\n",
      "Use_telephone\n",
      "Walk\n"
     ]
    }
   ],
   "source": [
    "from __future__ import division\n",
    "from sklearn.cluster import KMeans\n",
    "import random\n",
    "import numpy as np\n",
    "import pandas as pd\n",
    "from random import randint\n",
    "import matplotlib.pyplot as plt\n",
    "import scipy.stats\n",
    "from sklearn.model_selection import train_test_split\n",
    "from sklearn import metrics\n",
    "from sklearn.model_selection import train_test_split\n",
    "from sklearn.ensemble import RandomForestClassifier\n",
    "import random\n",
    "import os\n",
    "import sys\n",
    "import csv\n",
    "\n",
    "\n",
    "#TAKE ALL MODEL OUT OF DATA SET AND LAST 2 FILES\n",
    "\n",
    "path = './HMP_Dataset'\n",
    " \n",
    "if len(sys.argv) == 2:\n",
    "    path = sys.argv[1]\n",
    " \n",
    " \n",
    "folder_labels = os.listdir(path)\n",
    "for name in folder_labels:\n",
    "    print(name)\n"
   ]
  },
  {
   "cell_type": "code",
   "execution_count": 271,
   "metadata": {},
   "outputs": [
    {
     "name": "stdout",
     "output_type": "stream",
     "text": [
      "./HMP_Dataset/Brush_teeth\n",
      "./HMP_Dataset/Climb_stairs\n",
      "./HMP_Dataset/Comb_hair\n",
      "./HMP_Dataset/Descend_stairs\n",
      "./HMP_Dataset/Drink_glass\n",
      "./HMP_Dataset/Eat_meat\n",
      "./HMP_Dataset/Eat_soup\n",
      "./HMP_Dataset/Getup_bed\n",
      "./HMP_Dataset/Liedown_bed\n",
      "./HMP_Dataset/Pour_water\n",
      "./HMP_Dataset/Sitdown_chair\n",
      "./HMP_Dataset/Standup_chair\n",
      "./HMP_Dataset/Use_telephone\n",
      "./HMP_Dataset/Walk\n"
     ]
    }
   ],
   "source": [
    "file_path = []\n",
    "full_label = []\n",
    "for label in folder_labels:\n",
    "    if label[0] != '.':\n",
    "        check = './HMP_Dataset/' + label\n",
    "        print(check)\n",
    "        if len(sys.argv) == 2:\n",
    "\n",
    "            check =   sys.argv[1]  \n",
    "\n",
    "        file_path +=  os.listdir(check)\n",
    "\n",
    "c = 0\n",
    "while c < 12:\n",
    "    b = file_path[c]\n",
    "    f = './HMP_Dataset/Brush_teeth/' + b\n",
    "    file_path[c] = f\n",
    "    f = ''\n",
    "    full_label.append(\"Brush_teeth\")\n",
    "    c += 1\n",
    "\n",
    "while c < 114:\n",
    "    b = file_path[c]\n",
    "    f = './HMP_Dataset/Climb_stairs/' + b\n",
    "    file_path[c] = f\n",
    "    f = ''\n",
    "    full_label.append(\"Climb_stairs\")\n",
    "    c += 1\n",
    "    \n",
    "\n",
    "while c < 145:\n",
    "    b = file_path[c]\n",
    "    f = './HMP_Dataset/Comb_hair/' + b\n",
    "    file_path[c] = f\n",
    "    f = ''\n",
    "    full_label.append(\"Comb_hair\")\n",
    "    c += 1\n",
    "\n",
    "while c < 187:\n",
    "    b = file_path[c]\n",
    "    f = './HMP_Dataset/Descend_stairs/' + b\n",
    "    file_path[c] = f\n",
    "    f = ''\n",
    "    full_label.append(\"Descend_stairs\")\n",
    "    c += 1\n",
    "\n",
    "while c < 287:\n",
    "    b = file_path[c]\n",
    "    f = './HMP_Dataset/Drink_glass/' + b\n",
    "    file_path[c] = f\n",
    "    f = ''\n",
    "    full_label.append(\"Drink_glass\")\n",
    "    c += 1\n",
    "    \n",
    "while c < 292:\n",
    "    b = file_path[c]\n",
    "    f = './HMP_Dataset/Eat_meat/' + b\n",
    "    file_path[c] = f\n",
    "    f = ''\n",
    "    full_label.append(\"Eat_meat\")\n",
    "    c += 1\n",
    "    \n",
    "while c < 295:\n",
    "    b = file_path[c]\n",
    "    f = './HMP_Dataset/Eat_soup/' + b\n",
    "    file_path[c] = f\n",
    "    f = ''\n",
    "    full_label.append(\"Eat_soup\")\n",
    "    c += 1\n",
    "    \n",
    "while c < 396:\n",
    "    b = file_path[c]\n",
    "    f = './HMP_Dataset/Getup_bed/' + b\n",
    "    file_path[c] = f\n",
    "    f = ''\n",
    "    full_label.append(\"Getup_bed\")\n",
    "    c += 1\n",
    "    \n",
    "while c < 424:\n",
    "    b = file_path[c]\n",
    "    f = './HMP_Dataset/Liedown_bed/' + b\n",
    "    file_path[c] = f\n",
    "    f = ''\n",
    "    full_label.append(\"Liedown_bed\")\n",
    "    c += 1\n",
    "\n",
    "while c < 524:\n",
    "    b = file_path[c]\n",
    "    f = './HMP_Dataset/Pour_water/' + b\n",
    "    file_path[c] = f\n",
    "    f = ''\n",
    "    full_label.append(\"Pour_water\")\n",
    "    c += 1\n",
    "    \n",
    "while c < 624:\n",
    "    b = file_path[c]\n",
    "    f = './HMP_Dataset/Sitdown_chair/' + b\n",
    "    file_path[c] = f\n",
    "    f = ''\n",
    "    full_label.append(\"Sitdown_chair\")\n",
    "    c += 1\n",
    "    \n",
    "while c < 726:\n",
    "    b = file_path[c]\n",
    "    f = './HMP_Dataset/Standup_chair/' + b\n",
    "    file_path[c] = f\n",
    "    f = ''\n",
    "    full_label.append(\"Standup_chair\")\n",
    "    c += 1\n",
    "\n",
    "while c < 739:\n",
    "    b = file_path[c]\n",
    "    f = './HMP_Dataset/Use_telephone/' + b\n",
    "    file_path[c] = f\n",
    "    f = ''\n",
    "    full_label.append(\"Use_telephone\")\n",
    "    c += 1\n",
    "    \n",
    "while c < 839:\n",
    "    b = file_path[c]\n",
    "    f = './HMP_Dataset/Walk/' + b\n",
    "    file_path[c] = f\n",
    "    f = ''\n",
    "    full_label.append(\"Walk\")\n",
    "    c += 1\n"
   ]
  },
  {
   "cell_type": "code",
   "execution_count": 272,
   "metadata": {},
   "outputs": [],
   "source": [
    "\n",
    "brush = []\n",
    "climb = []\n",
    "comb = []\n",
    "descend = []\n",
    "drink = []\n",
    "meat  = []\n",
    "soup = []\n",
    "upbed = []\n",
    "downbed = []\n",
    "pour = []\n",
    "sitchair = []\n",
    "standchair = []\n",
    "telephone = []\n",
    "walk = []\n",
    "chunk_cluster_by_file = []\n",
    "\n",
    "# process chunk from quantize_file function\n",
    "def process_chunk(chop_file, filetype): \n",
    "\n",
    "    p = np.array(chop_file)\n",
    "\n",
    "    p = p.flatten()  \n",
    "\n",
    "    \n",
    "    filetype.append(p)\n",
    "    \n",
    "\n",
    "# this will split chunks by input num_seconds\n",
    "def quantize_file(filepath, num_seconds, filetype):\n",
    "    \n",
    "    #df = pd.read_csv(filepath, header = None)    \n",
    "    \n",
    "    lines = []\n",
    "    num_chunk_in_file = 0\n",
    "    with open(filepath) as csvfile:\n",
    "        reader = csv.reader(csvfile, quoting=csv.QUOTE_NONNUMERIC, delimiter = ' ') # change contents to floats\n",
    "        for row in reader: # each row is a list\n",
    "            lines.append(row)\n",
    "            \n",
    "            \n",
    "    \n",
    "    if len(lines) % num_seconds != 0:\n",
    "        while len(lines) % num_seconds != 0:\n",
    "            del lines[-1]\n",
    "\n",
    "    chunk = []\n",
    "    counter = 0\n",
    "    for i in lines:\n",
    "        chunk.append(i)\n",
    "        counter += 1\n",
    "        \n",
    "        if (counter % num_seconds) == 0:\n",
    "            process_chunk(chunk, filetype)\n",
    "            chunk.clear()\n",
    "            num_chunk_in_file += 1\n",
    "    \n",
    "     \n",
    "    chunk_cluster_by_file.append(num_chunk_in_file)"
   ]
  },
  {
   "cell_type": "code",
   "execution_count": 273,
   "metadata": {},
   "outputs": [
    {
     "name": "stdout",
     "output_type": "stream",
     "text": [
      "839\n"
     ]
    },
    {
     "data": {
      "text/plain": [
       "KMeans(algorithm='auto', copy_x=True, init='k-means++', max_iter=300,\n",
       "    n_clusters=14, n_init=1, n_jobs=None, precompute_distances='auto',\n",
       "    random_state=None, tol=0.0001, verbose=0)"
      ]
     },
     "execution_count": 273,
     "metadata": {},
     "output_type": "execute_result"
    }
   ],
   "source": [
    "count = 0;\n",
    "sec = 4\n",
    "for file in file_path:\n",
    "    \n",
    "    if full_label[count] == 'Brush_teeth':\n",
    "        quantize_file(file, sec, brush)\n",
    "        \n",
    "    if full_label[count] == 'Climb_stairs':\n",
    "        quantize_file(file, sec, climb)\n",
    "        \n",
    "    if full_label[count] == 'Comb_hair':\n",
    "        quantize_file(file, sec, comb)\n",
    "        \n",
    "    if full_label[count] == 'Descend_stairs':\n",
    "        quantize_file(file, sec, descend)\n",
    "        \n",
    "    if full_label[count] == 'Drink_glass':\n",
    "        quantize_file(file, sec, drink)\n",
    "\n",
    "    if full_label[count] == 'Eat_meat':\n",
    "        quantize_file(file, sec, meat)\n",
    "        \n",
    "    if full_label[count] == 'Eat_soup':\n",
    "        quantize_file(file, sec, soup)\n",
    "        \n",
    "    if full_label[count] == 'Getup_bed':\n",
    "        quantize_file(file, sec, upbed)\n",
    "        \n",
    "    if full_label[count] == 'Liedown_bed':\n",
    "        quantize_file(file, sec, downbed)\n",
    "        \n",
    "    if full_label[count] == 'Pour_water':\n",
    "        quantize_file(file, sec, pour)\n",
    "        \n",
    "    if full_label[count] == 'Sitdown_chair':\n",
    "        quantize_file(file, sec, sitchair)\n",
    "        \n",
    "    if full_label[count] == 'Standup_chair':\n",
    "        quantize_file(file, sec, standchair)\n",
    "        \n",
    "    if full_label[count] == 'Use_telephone':\n",
    "        quantize_file(file, sec, telephone)\n",
    "        \n",
    "    if full_label[count] == 'Walk':\n",
    "        quantize_file(file, sec, walk)\n",
    "        \n",
    "    count += 1;\n",
    "print(len(chunk_cluster_by_file))\n",
    "all_list = []\n",
    "all_list = all_list + brush\n",
    "all_list = all_list + (climb)\n",
    "all_list = all_list + (comb)\n",
    "all_list= all_list + (descend)\n",
    "all_list= all_list + (drink)\n",
    "all_list= all_list + (meat)\n",
    "all_list= all_list + (soup)\n",
    "all_list= all_list + (upbed)\n",
    "all_list= all_list + (downbed)\n",
    "all_list= all_list + (pour)\n",
    "all_list= all_list + (sitchair)\n",
    "all_list= all_list + (standchair)\n",
    "all_list= all_list + (telephone)\n",
    "all_list= all_list + (walk)\n",
    "\n",
    "a = np.array(all_list)\n",
    "\n",
    "n_clusters = 14\n",
    "\n",
    "k_m = KMeans(n_clusters = n_clusters, n_init = 1)\n",
    "k_m.fit(a)"
   ]
  },
  {
   "cell_type": "code",
   "execution_count": 274,
   "metadata": {},
   "outputs": [
    {
     "name": "stdout",
     "output_type": "stream",
     "text": [
      "839\n",
      "7453\n",
      "839\n"
     ]
    }
   ],
   "source": [
    "features = np.zeros((len(full_label),n_clusters))\n",
    "print(len(full_label))\n",
    "file_index = 0\n",
    "print(len(brush))\n",
    "print(len(chunk_cluster_by_file))"
   ]
  },
  {
   "cell_type": "code",
   "execution_count": 275,
   "metadata": {},
   "outputs": [],
   "source": [
    "\n",
    "def predict_file(filetype):\n",
    "    global file_index\n",
    "    temp = np.zeros(n_clusters)\n",
    "    chunk_counter = 0\n",
    "    file_num = 0\n",
    "    for i in range(len(filetype)):\n",
    "        u = filetype[i].copy()\n",
    "        u = u.reshape((1,(sec*3)))\n",
    "        \n",
    "        val = k_m.predict(u)\n",
    "        val = val[0]\n",
    "        temp[val] += 1\n",
    "        chunk_counter +=1\n",
    "        \n",
    "        if chunk_counter == chunk_cluster_by_file[file_index]:\n",
    "            features[file_index,:] = temp.copy()\n",
    "            temp = np.zeros(n_clusters)\n",
    "            chunk_counter = 0\n",
    "            file_num += 1\n",
    "            file_index += 1\n"
   ]
  },
  {
   "cell_type": "code",
   "execution_count": 276,
   "metadata": {
    "scrolled": true
   },
   "outputs": [],
   "source": [
    "file_num = 0\n",
    "predict_file(brush)\n",
    "predict_file(climb)\n",
    "predict_file(comb)\n",
    "predict_file(descend)\n",
    "predict_file(drink)\n",
    "predict_file(meat)\n",
    "predict_file(soup)\n",
    "predict_file(upbed)\n",
    "predict_file(downbed)\n",
    "predict_file(pour)\n",
    "predict_file(sitchair)\n",
    "predict_file(standchair)\n",
    "predict_file(telephone)\n",
    "predict_file(walk)\n"
   ]
  },
  {
   "cell_type": "code",
   "execution_count": null,
   "metadata": {},
   "outputs": [],
   "source": []
  },
  {
   "cell_type": "code",
   "execution_count": 277,
   "metadata": {},
   "outputs": [
    {
     "name": "stderr",
     "output_type": "stream",
     "text": [
      "C:\\Users\\cshaw\\Anaconda3\\lib\\site-packages\\sklearn\\ensemble\\forest.py:246: FutureWarning: The default value of n_estimators will change from 10 in version 0.20 to 100 in 0.22.\n",
      "  \"10 in version 0.20 to 100 in 0.22.\", FutureWarning)\n"
     ]
    },
    {
     "data": {
      "text/plain": [
       "RandomForestClassifier(bootstrap=True, class_weight=None, criterion='gini',\n",
       "            max_depth=None, max_features='auto', max_leaf_nodes=None,\n",
       "            min_impurity_decrease=0.0, min_impurity_split=None,\n",
       "            min_samples_leaf=1, min_samples_split=2,\n",
       "            min_weight_fraction_leaf=0.0, n_estimators=10, n_jobs=None,\n",
       "            oob_score=False, random_state=None, verbose=0,\n",
       "            warm_start=False)"
      ]
     },
     "execution_count": 277,
     "metadata": {},
     "output_type": "execute_result"
    }
   ],
   "source": [
    "full_label = np.array(full_label)\n",
    "\n",
    "train_index = random.sample(range(0, len(full_label)), int(0.8*len(full_label)))\n",
    "\n",
    "test_index = list(set(list(range(0,len(full_label))))-set(train_index))\n",
    "\n",
    "feat_train = features[train_index]\n",
    "feat_test = features[test_index]\n",
    "\n",
    "label_train = full_label[train_index]\n",
    "label_test = full_label[test_index]\n",
    "\n",
    "rand = RandomForestClassifier()\n",
    "rand.fit(feat_train, label_train)"
   ]
  },
  {
   "cell_type": "code",
   "execution_count": 278,
   "metadata": {},
   "outputs": [],
   "source": [
    "prediction = rand.predict(feat_test)"
   ]
  },
  {
   "cell_type": "code",
   "execution_count": 279,
   "metadata": {},
   "outputs": [
    {
     "data": {
      "text/plain": [
       "array([[ 2,  0,  0,  0,  0,  0,  0,  0,  0,  0,  0,  0,  0],\n",
       "       [ 0, 17,  0,  1,  0,  0,  0,  1,  0,  0,  0,  0,  1],\n",
       "       [ 0,  0,  7,  0,  1,  0,  0,  0,  0,  0,  0,  0,  0],\n",
       "       [ 0,  2,  0,  6,  0,  0,  0,  0,  0,  0,  0,  0,  0],\n",
       "       [ 0,  0,  0,  0, 22,  0,  0,  0,  0,  2,  0,  0,  0],\n",
       "       [ 0,  0,  0,  0,  1,  1,  0,  0,  0,  0,  0,  0,  0],\n",
       "       [ 0,  0,  0,  0,  0,  0,  1,  0,  0,  0,  0,  0,  0],\n",
       "       [ 0,  0,  0,  0,  0,  0,  0, 17,  1,  0,  0,  3,  0],\n",
       "       [ 0,  0,  0,  0,  0,  0,  0,  5,  0,  0,  2,  0,  0],\n",
       "       [ 0,  0,  0,  0,  1,  0,  0,  0,  0, 16,  0,  0,  0],\n",
       "       [ 0,  0,  0,  0,  0,  0,  0,  1,  0,  1, 13,  2,  0],\n",
       "       [ 0,  0,  0,  0,  0,  0,  0,  0,  0,  0,  5, 16,  0],\n",
       "       [ 0,  1,  0,  1,  0,  0,  0,  0,  0,  0,  0,  0, 18]], dtype=int64)"
      ]
     },
     "execution_count": 279,
     "metadata": {},
     "output_type": "execute_result"
    }
   ],
   "source": [
    "metrics.confusion_matrix(label_test, prediction)"
   ]
  },
  {
   "cell_type": "code",
   "execution_count": 280,
   "metadata": {},
   "outputs": [
    {
     "data": {
      "text/plain": [
       "'                precision    recall  f1-score   support\\n\\n   Brush_teeth       1.00      1.00      1.00         2\\n  Climb_stairs       0.85      0.85      0.85        20\\n     Comb_hair       1.00      0.88      0.93         8\\nDescend_stairs       0.75      0.75      0.75         8\\n   Drink_glass       0.88      0.92      0.90        24\\n      Eat_meat       1.00      0.50      0.67         2\\n      Eat_soup       1.00      1.00      1.00         1\\n     Getup_bed       0.71      0.81      0.76        21\\n   Liedown_bed       0.00      0.00      0.00         7\\n    Pour_water       0.84      0.94      0.89        17\\n Sitdown_chair       0.65      0.76      0.70        17\\n Standup_chair       0.76      0.76      0.76        21\\n          Walk       0.95      0.90      0.92        20\\n\\n     micro avg       0.81      0.81      0.81       168\\n     macro avg       0.80      0.77      0.78       168\\n  weighted avg       0.79      0.81      0.80       168\\n'"
      ]
     },
     "execution_count": 280,
     "metadata": {},
     "output_type": "execute_result"
    }
   ],
   "source": [
    "metrics.classification_report(label_test, prediction)"
   ]
  },
  {
   "cell_type": "code",
   "execution_count": 281,
   "metadata": {},
   "outputs": [
    {
     "name": "stdout",
     "output_type": "stream",
     "text": [
      "accuracy 0.8095238095238095\n",
      "error 0.19047619047619047\n"
     ]
    }
   ],
   "source": [
    "\n",
    "print('accuracy', np.sum(label_test == prediction) / len(label_test))\n",
    "\n",
    "print('error', 1 - np.sum(label_test == prediction) / len(label_test))"
   ]
  },
  {
   "cell_type": "code",
   "execution_count": 282,
   "metadata": {},
   "outputs": [
    {
     "name": "stdout",
     "output_type": "stream",
     "text": [
      "accuracy 0.9970193740685543\n",
      "error 0.0029806259314456574\n"
     ]
    }
   ],
   "source": [
    "prediction = rand.predict(feat_train)\n",
    "\n",
    "print('accuracy', np.sum(label_train == prediction) / len(label_train))\n",
    "\n",
    "print('error', 1 - np.sum(label_train == prediction) / len(label_train))\n"
   ]
  },
  {
   "cell_type": "code",
   "execution_count": null,
   "metadata": {},
   "outputs": [],
   "source": []
  },
  {
   "cell_type": "code",
   "execution_count": null,
   "metadata": {},
   "outputs": [],
   "source": []
  },
  {
   "cell_type": "code",
   "execution_count": null,
   "metadata": {},
   "outputs": [],
   "source": []
  }
 ],
 "metadata": {
  "kernelspec": {
   "display_name": "Python 3",
   "language": "python",
   "name": "python3"
  },
  "language_info": {
   "codemirror_mode": {
    "name": "ipython",
    "version": 3
   },
   "file_extension": ".py",
   "mimetype": "text/x-python",
   "name": "python",
   "nbconvert_exporter": "python",
   "pygments_lexer": "ipython3",
   "version": "3.7.1"
  }
 },
 "nbformat": 4,
 "nbformat_minor": 2
}
